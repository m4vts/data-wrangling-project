{
 "cells": [
  {
   "cell_type": "code",
   "execution_count": 1,
   "metadata": {},
   "outputs": [],
   "source": [
    "import pandas as pd\n",
    "import numpy as np\n",
    "import seaborn as sns\n",
    "import matplotlib.pyplot as plt\n",
    "%matplotlib inline\n",
    "from matplotlib.pylab import rcParams\n",
    "pd.options.display.max_rows = 30\n",
    "np.set_printoptions(precision = 4, suppress = True)\n",
    "pd.set_option('display.max_columns', None)  "
   ]
  },
  {
   "cell_type": "markdown",
   "metadata": {},
   "source": [
    "### Import and Clean WHO data"
   ]
  },
  {
   "cell_type": "code",
   "execution_count": 2,
   "metadata": {},
   "outputs": [],
   "source": [
    "#WHO - Global Health Observatory data repository - Number of people (all ages) living with HIV by country\n",
    "file1 = \"Number of people (all ages) living with HIV.csv\"\n",
    "df_who = pd.read_csv(file1)\n"
   ]
  },
  {
   "cell_type": "code",
   "execution_count": 3,
   "metadata": {},
   "outputs": [
    {
     "data": {
      "text/html": [
       "<div>\n",
       "<style scoped>\n",
       "    .dataframe tbody tr th:only-of-type {\n",
       "        vertical-align: middle;\n",
       "    }\n",
       "\n",
       "    .dataframe tbody tr th {\n",
       "        vertical-align: top;\n",
       "    }\n",
       "\n",
       "    .dataframe thead th {\n",
       "        text-align: right;\n",
       "    }\n",
       "</style>\n",
       "<table border=\"1\" class=\"dataframe\">\n",
       "  <thead>\n",
       "    <tr style=\"text-align: right;\">\n",
       "      <th></th>\n",
       "      <th>Country</th>\n",
       "      <th>2018</th>\n",
       "      <th>2010</th>\n",
       "      <th>2005</th>\n",
       "      <th>2000</th>\n",
       "    </tr>\n",
       "  </thead>\n",
       "  <tbody>\n",
       "    <tr>\n",
       "      <th>0</th>\n",
       "      <td>Afghanistan</td>\n",
       "      <td>7200 [4100–11 000]</td>\n",
       "      <td>4200 [2500–6200]</td>\n",
       "      <td>2900 [1700–5000]</td>\n",
       "      <td>1600 [1000–3500]</td>\n",
       "    </tr>\n",
       "    <tr>\n",
       "      <th>1</th>\n",
       "      <td>Albania</td>\n",
       "      <td>No data</td>\n",
       "      <td>No data</td>\n",
       "      <td>No data</td>\n",
       "      <td>No data</td>\n",
       "    </tr>\n",
       "    <tr>\n",
       "      <th>2</th>\n",
       "      <td>Algeria</td>\n",
       "      <td>16 000 [15 000–17 000]</td>\n",
       "      <td>7100 [6600–7600]</td>\n",
       "      <td>3700 [3500–4000]</td>\n",
       "      <td>1900 [1700–2000]</td>\n",
       "    </tr>\n",
       "    <tr>\n",
       "      <th>3</th>\n",
       "      <td>Angola</td>\n",
       "      <td>330 000 [290 000–390 000]</td>\n",
       "      <td>220 000 [180 000–250 000]</td>\n",
       "      <td>150 000 [120 000–170 000]</td>\n",
       "      <td>87 000 [72 000–110 000]</td>\n",
       "    </tr>\n",
       "    <tr>\n",
       "      <th>4</th>\n",
       "      <td>Argentina</td>\n",
       "      <td>140 000 [130 000–150 000]</td>\n",
       "      <td>110 000 [96 000–120 000]</td>\n",
       "      <td>85 000 [76 000–94 000]</td>\n",
       "      <td>64 000 [55 000–71 000]</td>\n",
       "    </tr>\n",
       "    <tr>\n",
       "      <th>...</th>\n",
       "      <td>...</td>\n",
       "      <td>...</td>\n",
       "      <td>...</td>\n",
       "      <td>...</td>\n",
       "      <td>...</td>\n",
       "    </tr>\n",
       "    <tr>\n",
       "      <th>165</th>\n",
       "      <td>Venezuela (Bolivarian Republic of)</td>\n",
       "      <td>120 000 [100 000–130 000]</td>\n",
       "      <td>No data</td>\n",
       "      <td>No data</td>\n",
       "      <td>No data</td>\n",
       "    </tr>\n",
       "    <tr>\n",
       "      <th>166</th>\n",
       "      <td>Viet Nam</td>\n",
       "      <td>230 000 [200 000–260 000]</td>\n",
       "      <td>220 000 [180 000–250 000]</td>\n",
       "      <td>180 000 [160 000–210 000]</td>\n",
       "      <td>120 000 [110 000–130 000]</td>\n",
       "    </tr>\n",
       "    <tr>\n",
       "      <th>167</th>\n",
       "      <td>Yemen</td>\n",
       "      <td>11 000 [6500–18 000]</td>\n",
       "      <td>5100 [3500–7400]</td>\n",
       "      <td>2400 [1500–4000]</td>\n",
       "      <td>1100 [680–2500]</td>\n",
       "    </tr>\n",
       "    <tr>\n",
       "      <th>168</th>\n",
       "      <td>Zambia</td>\n",
       "      <td>1 200 000 [1 100 000–1 400 000]</td>\n",
       "      <td>1 000 000 [900 000–1 100 000]</td>\n",
       "      <td>920 000 [820 000–1 000 000]</td>\n",
       "      <td>890 000 [800 000–1 000 000]</td>\n",
       "    </tr>\n",
       "    <tr>\n",
       "      <th>169</th>\n",
       "      <td>Zimbabwe</td>\n",
       "      <td>1 300 000 [1 100 000–1 500 000]</td>\n",
       "      <td>1 200 000 [1 100 000–1 400 000]</td>\n",
       "      <td>1 400 000 [1 200 000–1 600 000]</td>\n",
       "      <td>1 600 000 [1 400 000–1 900 000]</td>\n",
       "    </tr>\n",
       "  </tbody>\n",
       "</table>\n",
       "<p>170 rows × 5 columns</p>\n",
       "</div>"
      ],
      "text/plain": [
       "                                Country                             2018  \\\n",
       "0                           Afghanistan               7200 [4100–11 000]   \n",
       "1                               Albania                          No data   \n",
       "2                               Algeria           16 000 [15 000–17 000]   \n",
       "3                                Angola        330 000 [290 000–390 000]   \n",
       "4                             Argentina        140 000 [130 000–150 000]   \n",
       "..                                  ...                              ...   \n",
       "165  Venezuela (Bolivarian Republic of)        120 000 [100 000–130 000]   \n",
       "166                            Viet Nam        230 000 [200 000–260 000]   \n",
       "167                               Yemen             11 000 [6500–18 000]   \n",
       "168                              Zambia  1 200 000 [1 100 000–1 400 000]   \n",
       "169                            Zimbabwe  1 300 000 [1 100 000–1 500 000]   \n",
       "\n",
       "                                2010                             2005  \\\n",
       "0                   4200 [2500–6200]                 2900 [1700–5000]   \n",
       "1                            No data                          No data   \n",
       "2                   7100 [6600–7600]                 3700 [3500–4000]   \n",
       "3          220 000 [180 000–250 000]        150 000 [120 000–170 000]   \n",
       "4           110 000 [96 000–120 000]           85 000 [76 000–94 000]   \n",
       "..                               ...                              ...   \n",
       "165                          No data                          No data   \n",
       "166        220 000 [180 000–250 000]        180 000 [160 000–210 000]   \n",
       "167                 5100 [3500–7400]                 2400 [1500–4000]   \n",
       "168    1 000 000 [900 000–1 100 000]      920 000 [820 000–1 000 000]   \n",
       "169  1 200 000 [1 100 000–1 400 000]  1 400 000 [1 200 000–1 600 000]   \n",
       "\n",
       "                                2000  \n",
       "0                   1600 [1000–3500]  \n",
       "1                            No data  \n",
       "2                   1900 [1700–2000]  \n",
       "3            87 000 [72 000–110 000]  \n",
       "4             64 000 [55 000–71 000]  \n",
       "..                               ...  \n",
       "165                          No data  \n",
       "166        120 000 [110 000–130 000]  \n",
       "167                  1100 [680–2500]  \n",
       "168      890 000 [800 000–1 000 000]  \n",
       "169  1 600 000 [1 400 000–1 900 000]  \n",
       "\n",
       "[170 rows x 5 columns]"
      ]
     },
     "execution_count": 3,
     "metadata": {},
     "output_type": "execute_result"
    }
   ],
   "source": [
    "df_who"
   ]
  },
  {
   "cell_type": "code",
   "execution_count": 4,
   "metadata": {},
   "outputs": [],
   "source": [
    "def simplify_cells(df):\n",
    "    for i in df.iterrows():\n",
    "        lines = i[1]\n",
    "        for x in range(1,len(df.columns)):\n",
    "            line = lines[x].split(\"[\")\n",
    "            i[1][x] = line[0]\n",
    "    \n",
    "simplify_cells(df_who)"
   ]
  },
  {
   "cell_type": "code",
   "execution_count": 5,
   "metadata": {},
   "outputs": [],
   "source": [
    "#For 2018\n",
    "df_who_2018 = pd.DataFrame(data=df_who,columns=[\"Country\",2018])\n",
    "df_who.columns = [\"Country\",\"Number of people (all ages) living with HIV in 2018\",\n",
    "                  \"Number of people (all ages) living with HIV in 2010\",\n",
    "                  \"Number of people (all ages) living with HIV in 2005\",\n",
    "                  \"Number of people (all ages) living with HIV in 2000\"]\n",
    "df_who_2018.columns = [\"Country\",\"Number of people (all ages) living with HIV in 2018\"]\n",
    "df_who_2018[\"Number of people (all ages) living with HIV in 2018\"]= df_who[\"Number of people (all ages) living with HIV in 2018\"]"
   ]
  },
  {
   "cell_type": "code",
   "execution_count": 6,
   "metadata": {},
   "outputs": [],
   "source": [
    "#For 2010 & 2000\n",
    "df_who_2010 = pd.DataFrame(data=df_who,columns=[\"Country\",\"Number of people (all ages) living with HIV in 2010\"])\n",
    "df_who_2010[\"Number of people (all ages) living with HIV in 2010\"]= df_who[\"Number of people (all ages) living with HIV in 2010\"]\n",
    "df_who_2000 = pd.DataFrame(data=df_who,columns=[\"Country\",\"Number of people (all ages) living with HIV in 2000\"])\n",
    "df_who_2000[\"Number of people (all ages) living with HIV in 2000\"]= df_who[\"Number of people (all ages) living with HIV in 2000\"]\n",
    "df_who_2018 = df_who_2018.merge(df_who_2010, on=\"Country\")\n",
    "df_who_2018 = df_who_2018.merge(df_who_2000, on=\"Country\")"
   ]
  },
  {
   "cell_type": "code",
   "execution_count": 7,
   "metadata": {},
   "outputs": [],
   "source": [
    "df_who_new = pd.read_csv(\"Number of new HIV infections.csv\")"
   ]
  },
  {
   "cell_type": "code",
   "execution_count": 8,
   "metadata": {},
   "outputs": [],
   "source": [
    "simplify_cells(df_who_new)\n",
    "\n",
    "df_who_new.columns = [\"Country\",\"Number of new HIV infections in 2018\", \"HIV incidence rate (per 1000 uninfected population) in 2018\"]\n",
    "df_who_2018 = df_who_2018.merge(df_who_new, left_on=\"Country\", right_on=\"Country\")"
   ]
  },
  {
   "cell_type": "code",
   "execution_count": 9,
   "metadata": {},
   "outputs": [],
   "source": [
    "#Importing Antiretroviral therapy coverage.csv\n",
    "df_who_new = pd.read_csv(\"Antiretroviral therapy coverage.csv\")\n",
    "simplify_cells(df_who_new)\n",
    "df_who_new.columns =[\"Country\", \"Estimated antiretroviral therapy coverage among people living with HIV (%) in 2018\",\n",
    "                    \"Reported number of people receiving antiretroviral therapy in 2018\", \"Number of people with HIV in 2018\",\n",
    "                    \"Number of people with HIV in 2010\", \"Number of people with HIV in 2005\",\"Number of people with HIV in 2000\"]\n",
    "df_who_new_2018 = pd.DataFrame(data=df_who_new,columns=[\"Country\",\"Estimated antiretroviral therapy coverage among people living with HIV (%) in 2018\",\n",
    "                                                       \"Reported number of people receiving antiretroviral therapy in 2018\"])\n",
    "df_who_2018 = df_who_2018.merge(df_who_new_2018, on = \"Country\")"
   ]
  },
  {
   "cell_type": "code",
   "execution_count": 10,
   "metadata": {},
   "outputs": [],
   "source": [
    "#Importing Number of deaths due to HIV AIDS.csv\n",
    "df_who_new = pd.read_csv(\"Number of deaths due to HIV AIDS.csv\")"
   ]
  },
  {
   "cell_type": "code",
   "execution_count": 11,
   "metadata": {},
   "outputs": [],
   "source": [
    "simplify_cells(df_who_new)\n",
    "for i in df_who_new.iterrows():\n",
    "    for x in range(1,len(df_who_new.columns)):\n",
    "        line = i[1][x].split(\";\")\n",
    "        if len(line)>1:\n",
    "            i[1][x] = line[1]\n",
    "df_who_new.columns = [\"Country\", \"Number of deaths due to HIV AIDS in 2018\", \"Number of deaths due to HIV AIDS in 2010\",\n",
    "                      \"Number of deaths due to HIV AIDS in 2000\"]\n",
    "df_who_new_2018 = pd.DataFrame(data=df_who_new, columns=[\"Country\",\"Number of deaths due to HIV AIDS in 2018\"])\n",
    "df_who_2018 = df_who_2018.merge(df_who_new_2018, left_on=\"Country\", right_on=\"Country\")"
   ]
  },
  {
   "cell_type": "code",
   "execution_count": 12,
   "metadata": {},
   "outputs": [],
   "source": [
    "#For 2010 and 2000\n",
    "df_who_2018[\"Number of deaths due to HIV AIDS in 2010\"] = df_who_new[\"Number of deaths due to HIV AIDS in 2010\"]\n",
    "df_who_2018[\"Number of deaths due to HIV AIDS in 2000\"] = df_who_new[\"Number of deaths due to HIV AIDS in 2000\"]"
   ]
  },
  {
   "cell_type": "code",
   "execution_count": 13,
   "metadata": {},
   "outputs": [
    {
     "ename": "FileNotFoundError",
     "evalue": "[Errno 2] File Pediatric antiretroviral therapy coverage.csv does not exist: 'Pediatric antiretroviral therapy coverage.csv'",
     "output_type": "error",
     "traceback": [
      "\u001b[0;31m---------------------------------------------------------------------------\u001b[0m",
      "\u001b[0;31mFileNotFoundError\u001b[0m                         Traceback (most recent call last)",
      "\u001b[0;32m<ipython-input-13-0ffa142075c2>\u001b[0m in \u001b[0;36m<module>\u001b[0;34m\u001b[0m\n\u001b[1;32m      1\u001b[0m \u001b[0;31m#Importing Pediatric antiretroviral therapy coverage.csv\u001b[0m\u001b[0;34m\u001b[0m\u001b[0;34m\u001b[0m\u001b[0;34m\u001b[0m\u001b[0m\n\u001b[0;32m----> 2\u001b[0;31m \u001b[0mdf_who_new\u001b[0m \u001b[0;34m=\u001b[0m \u001b[0mpd\u001b[0m\u001b[0;34m.\u001b[0m\u001b[0mread_csv\u001b[0m\u001b[0;34m(\u001b[0m\u001b[0;34m\"Pediatric antiretroviral therapy coverage.csv\"\u001b[0m\u001b[0;34m)\u001b[0m\u001b[0;34m\u001b[0m\u001b[0;34m\u001b[0m\u001b[0m\n\u001b[0m\u001b[1;32m      3\u001b[0m \u001b[0;34m\u001b[0m\u001b[0m\n\u001b[1;32m      4\u001b[0m df_who_new.columns = [\"Country\", \"Estimated antiretroviral therapy coverage among children in 2018\",\n\u001b[1;32m      5\u001b[0m                      \u001b[0;34m\"Estimated number of children needing antiretroviral therapy based on WHO methods in 2018\"\u001b[0m\u001b[0;34m,\u001b[0m\u001b[0;34m\u001b[0m\u001b[0;34m\u001b[0m\u001b[0m\n",
      "\u001b[0;32m~/ml/hands_on_ml/lib/python3.7/site-packages/pandas/io/parsers.py\u001b[0m in \u001b[0;36mparser_f\u001b[0;34m(filepath_or_buffer, sep, delimiter, header, names, index_col, usecols, squeeze, prefix, mangle_dupe_cols, dtype, engine, converters, true_values, false_values, skipinitialspace, skiprows, skipfooter, nrows, na_values, keep_default_na, na_filter, verbose, skip_blank_lines, parse_dates, infer_datetime_format, keep_date_col, date_parser, dayfirst, cache_dates, iterator, chunksize, compression, thousands, decimal, lineterminator, quotechar, quoting, doublequote, escapechar, comment, encoding, dialect, error_bad_lines, warn_bad_lines, delim_whitespace, low_memory, memory_map, float_precision)\u001b[0m\n\u001b[1;32m    674\u001b[0m         )\n\u001b[1;32m    675\u001b[0m \u001b[0;34m\u001b[0m\u001b[0m\n\u001b[0;32m--> 676\u001b[0;31m         \u001b[0;32mreturn\u001b[0m \u001b[0m_read\u001b[0m\u001b[0;34m(\u001b[0m\u001b[0mfilepath_or_buffer\u001b[0m\u001b[0;34m,\u001b[0m \u001b[0mkwds\u001b[0m\u001b[0;34m)\u001b[0m\u001b[0;34m\u001b[0m\u001b[0;34m\u001b[0m\u001b[0m\n\u001b[0m\u001b[1;32m    677\u001b[0m \u001b[0;34m\u001b[0m\u001b[0m\n\u001b[1;32m    678\u001b[0m     \u001b[0mparser_f\u001b[0m\u001b[0;34m.\u001b[0m\u001b[0m__name__\u001b[0m \u001b[0;34m=\u001b[0m \u001b[0mname\u001b[0m\u001b[0;34m\u001b[0m\u001b[0;34m\u001b[0m\u001b[0m\n",
      "\u001b[0;32m~/ml/hands_on_ml/lib/python3.7/site-packages/pandas/io/parsers.py\u001b[0m in \u001b[0;36m_read\u001b[0;34m(filepath_or_buffer, kwds)\u001b[0m\n\u001b[1;32m    446\u001b[0m \u001b[0;34m\u001b[0m\u001b[0m\n\u001b[1;32m    447\u001b[0m     \u001b[0;31m# Create the parser.\u001b[0m\u001b[0;34m\u001b[0m\u001b[0;34m\u001b[0m\u001b[0;34m\u001b[0m\u001b[0m\n\u001b[0;32m--> 448\u001b[0;31m     \u001b[0mparser\u001b[0m \u001b[0;34m=\u001b[0m \u001b[0mTextFileReader\u001b[0m\u001b[0;34m(\u001b[0m\u001b[0mfp_or_buf\u001b[0m\u001b[0;34m,\u001b[0m \u001b[0;34m**\u001b[0m\u001b[0mkwds\u001b[0m\u001b[0;34m)\u001b[0m\u001b[0;34m\u001b[0m\u001b[0;34m\u001b[0m\u001b[0m\n\u001b[0m\u001b[1;32m    449\u001b[0m \u001b[0;34m\u001b[0m\u001b[0m\n\u001b[1;32m    450\u001b[0m     \u001b[0;32mif\u001b[0m \u001b[0mchunksize\u001b[0m \u001b[0;32mor\u001b[0m \u001b[0miterator\u001b[0m\u001b[0;34m:\u001b[0m\u001b[0;34m\u001b[0m\u001b[0;34m\u001b[0m\u001b[0m\n",
      "\u001b[0;32m~/ml/hands_on_ml/lib/python3.7/site-packages/pandas/io/parsers.py\u001b[0m in \u001b[0;36m__init__\u001b[0;34m(self, f, engine, **kwds)\u001b[0m\n\u001b[1;32m    878\u001b[0m             \u001b[0mself\u001b[0m\u001b[0;34m.\u001b[0m\u001b[0moptions\u001b[0m\u001b[0;34m[\u001b[0m\u001b[0;34m\"has_index_names\"\u001b[0m\u001b[0;34m]\u001b[0m \u001b[0;34m=\u001b[0m \u001b[0mkwds\u001b[0m\u001b[0;34m[\u001b[0m\u001b[0;34m\"has_index_names\"\u001b[0m\u001b[0;34m]\u001b[0m\u001b[0;34m\u001b[0m\u001b[0;34m\u001b[0m\u001b[0m\n\u001b[1;32m    879\u001b[0m \u001b[0;34m\u001b[0m\u001b[0m\n\u001b[0;32m--> 880\u001b[0;31m         \u001b[0mself\u001b[0m\u001b[0;34m.\u001b[0m\u001b[0m_make_engine\u001b[0m\u001b[0;34m(\u001b[0m\u001b[0mself\u001b[0m\u001b[0;34m.\u001b[0m\u001b[0mengine\u001b[0m\u001b[0;34m)\u001b[0m\u001b[0;34m\u001b[0m\u001b[0;34m\u001b[0m\u001b[0m\n\u001b[0m\u001b[1;32m    881\u001b[0m \u001b[0;34m\u001b[0m\u001b[0m\n\u001b[1;32m    882\u001b[0m     \u001b[0;32mdef\u001b[0m \u001b[0mclose\u001b[0m\u001b[0;34m(\u001b[0m\u001b[0mself\u001b[0m\u001b[0;34m)\u001b[0m\u001b[0;34m:\u001b[0m\u001b[0;34m\u001b[0m\u001b[0;34m\u001b[0m\u001b[0m\n",
      "\u001b[0;32m~/ml/hands_on_ml/lib/python3.7/site-packages/pandas/io/parsers.py\u001b[0m in \u001b[0;36m_make_engine\u001b[0;34m(self, engine)\u001b[0m\n\u001b[1;32m   1112\u001b[0m     \u001b[0;32mdef\u001b[0m \u001b[0m_make_engine\u001b[0m\u001b[0;34m(\u001b[0m\u001b[0mself\u001b[0m\u001b[0;34m,\u001b[0m \u001b[0mengine\u001b[0m\u001b[0;34m=\u001b[0m\u001b[0;34m\"c\"\u001b[0m\u001b[0;34m)\u001b[0m\u001b[0;34m:\u001b[0m\u001b[0;34m\u001b[0m\u001b[0;34m\u001b[0m\u001b[0m\n\u001b[1;32m   1113\u001b[0m         \u001b[0;32mif\u001b[0m \u001b[0mengine\u001b[0m \u001b[0;34m==\u001b[0m \u001b[0;34m\"c\"\u001b[0m\u001b[0;34m:\u001b[0m\u001b[0;34m\u001b[0m\u001b[0;34m\u001b[0m\u001b[0m\n\u001b[0;32m-> 1114\u001b[0;31m             \u001b[0mself\u001b[0m\u001b[0;34m.\u001b[0m\u001b[0m_engine\u001b[0m \u001b[0;34m=\u001b[0m \u001b[0mCParserWrapper\u001b[0m\u001b[0;34m(\u001b[0m\u001b[0mself\u001b[0m\u001b[0;34m.\u001b[0m\u001b[0mf\u001b[0m\u001b[0;34m,\u001b[0m \u001b[0;34m**\u001b[0m\u001b[0mself\u001b[0m\u001b[0;34m.\u001b[0m\u001b[0moptions\u001b[0m\u001b[0;34m)\u001b[0m\u001b[0;34m\u001b[0m\u001b[0;34m\u001b[0m\u001b[0m\n\u001b[0m\u001b[1;32m   1115\u001b[0m         \u001b[0;32melse\u001b[0m\u001b[0;34m:\u001b[0m\u001b[0;34m\u001b[0m\u001b[0;34m\u001b[0m\u001b[0m\n\u001b[1;32m   1116\u001b[0m             \u001b[0;32mif\u001b[0m \u001b[0mengine\u001b[0m \u001b[0;34m==\u001b[0m \u001b[0;34m\"python\"\u001b[0m\u001b[0;34m:\u001b[0m\u001b[0;34m\u001b[0m\u001b[0;34m\u001b[0m\u001b[0m\n",
      "\u001b[0;32m~/ml/hands_on_ml/lib/python3.7/site-packages/pandas/io/parsers.py\u001b[0m in \u001b[0;36m__init__\u001b[0;34m(self, src, **kwds)\u001b[0m\n\u001b[1;32m   1889\u001b[0m         \u001b[0mkwds\u001b[0m\u001b[0;34m[\u001b[0m\u001b[0;34m\"usecols\"\u001b[0m\u001b[0;34m]\u001b[0m \u001b[0;34m=\u001b[0m \u001b[0mself\u001b[0m\u001b[0;34m.\u001b[0m\u001b[0musecols\u001b[0m\u001b[0;34m\u001b[0m\u001b[0;34m\u001b[0m\u001b[0m\n\u001b[1;32m   1890\u001b[0m \u001b[0;34m\u001b[0m\u001b[0m\n\u001b[0;32m-> 1891\u001b[0;31m         \u001b[0mself\u001b[0m\u001b[0;34m.\u001b[0m\u001b[0m_reader\u001b[0m \u001b[0;34m=\u001b[0m \u001b[0mparsers\u001b[0m\u001b[0;34m.\u001b[0m\u001b[0mTextReader\u001b[0m\u001b[0;34m(\u001b[0m\u001b[0msrc\u001b[0m\u001b[0;34m,\u001b[0m \u001b[0;34m**\u001b[0m\u001b[0mkwds\u001b[0m\u001b[0;34m)\u001b[0m\u001b[0;34m\u001b[0m\u001b[0;34m\u001b[0m\u001b[0m\n\u001b[0m\u001b[1;32m   1892\u001b[0m         \u001b[0mself\u001b[0m\u001b[0;34m.\u001b[0m\u001b[0munnamed_cols\u001b[0m \u001b[0;34m=\u001b[0m \u001b[0mself\u001b[0m\u001b[0;34m.\u001b[0m\u001b[0m_reader\u001b[0m\u001b[0;34m.\u001b[0m\u001b[0munnamed_cols\u001b[0m\u001b[0;34m\u001b[0m\u001b[0;34m\u001b[0m\u001b[0m\n\u001b[1;32m   1893\u001b[0m \u001b[0;34m\u001b[0m\u001b[0m\n",
      "\u001b[0;32mpandas/_libs/parsers.pyx\u001b[0m in \u001b[0;36mpandas._libs.parsers.TextReader.__cinit__\u001b[0;34m()\u001b[0m\n",
      "\u001b[0;32mpandas/_libs/parsers.pyx\u001b[0m in \u001b[0;36mpandas._libs.parsers.TextReader._setup_parser_source\u001b[0;34m()\u001b[0m\n",
      "\u001b[0;31mFileNotFoundError\u001b[0m: [Errno 2] File Pediatric antiretroviral therapy coverage.csv does not exist: 'Pediatric antiretroviral therapy coverage.csv'"
     ]
    }
   ],
   "source": [
    "#Importing Pediatric antiretroviral therapy coverage.csv\n",
    "df_who_new = pd.read_csv(\"Pediatric antiretroviral therapy coverage.csv\")\n",
    "\n",
    "df_who_new.columns = [\"Country\", \"Estimated antiretroviral therapy coverage among children in 2018\",\n",
    "                     \"Estimated number of children needing antiretroviral therapy based on WHO methods in 2018\",\n",
    "                     \"Reported number of people receiving antiretroviral therapy in 2018\"]\n",
    "df_who_2018[\"Reported number of people receiving antiretroviral therapy in 2018\"] = df_who_new[\"Reported number of people receiving antiretroviral therapy in 2018\"]\n",
    "df_who_new = df_who_new.drop([\"Reported number of people receiving antiretroviral therapy in 2018\"], axis=1)"
   ]
  },
  {
   "cell_type": "code",
   "execution_count": null,
   "metadata": {},
   "outputs": [],
   "source": [
    "for i in df_who_new.iterrows():\n",
    "        line= str(i[1][1]).split(\"[\")[0]\n",
    "        i[1][1] = line\n",
    "        \n",
    "for i in df_who_new.iterrows():\n",
    "        line= str(i[1][1]).split(\";\")[-1]\n",
    "        i[1][1] = line\n",
    "        \n",
    "for i in df_who_new.iterrows():\n",
    "    line= str(i[1][2]).split(\"[\")[0]\n",
    "    i[1][2] = line\n",
    "    \n",
    "for i in df_who_new.iterrows():\n",
    "        line= str(i[1][2]).split(\";\")[-1]\n",
    "        i[1][2] = line"
   ]
  },
  {
   "cell_type": "code",
   "execution_count": null,
   "metadata": {},
   "outputs": [],
   "source": [
    "df_who_2018 = df_who_2018.merge(df_who_new, left_on=\"Country\", right_on=\"Country\")\n",
    "df_who = df_who_2018\n",
    "df_who = df_who.replace([\"No data\",\"nan\"], np.nan)"
   ]
  },
  {
   "cell_type": "code",
   "execution_count": null,
   "metadata": {},
   "outputs": [],
   "source": [
    "#https://data.worldbank.org/indicator/NY.GDP.MKTP.CD\n",
    "#Wanted to add income group and region from this dataset\n",
    "df_incomegroup = pd.read_csv(\"Metadata_Country_API_NY.GDP.MKTP.CD_DS2_en_csv_v2_672988.csv\")\n",
    "df_incomegroup = df_incomegroup.drop([\"Country Code\",\"SpecialNotes\",\"Unnamed: 5\"],axis=1)\n",
    "df_incomegroup.columns = [\"Region\",\"Income Group\",\"Country\"]"
   ]
  },
  {
   "cell_type": "code",
   "execution_count": null,
   "metadata": {},
   "outputs": [],
   "source": [
    "df_incomegroup = df_incomegroup.replace([\"Bahamas, The\", \"Congo, Dem. Rep.\", \"Korea, Rep.\", \"Czech Republic\",\"Egypt, Arab Rep.\"\n",
    "                       ,\"Iran, Islamic Rep.\",\"Lao PDR\",\"Gambia, The\",\"Venezuela, RB\",\"Yemen, Rep.\",\"United States\"],\n",
    "                       [\"Bahamas\", \"Democratic Republic of the Congo\",\n",
    "                        \"Democratic People's Republic of Korea\", \"Czechia\",\"Egypt\",\"Iran (Islamic Republic of)\",\n",
    "                        \"Lao People's Democratic Republic\",\"Gambia\",\"Venezuela (Bolivarian Republic of)\",\"Yemen\",\"United States of America\"])\n",
    "df_who =df_who.replace([\"Bolivia (Plurinational State of)\",\"Republic of Moldova\", \"Viet Nam\", \"United Republic of Tanzania\",\"Republic of North Macedonia\"],\n",
    "               [\"Bolivia\", \"Moldova\", \"Vietnam\", \"Tanzania\",\"North Macedonia\"])"
   ]
  },
  {
   "cell_type": "code",
   "execution_count": null,
   "metadata": {},
   "outputs": [],
   "source": [
    "df_who = df_who.merge(df_incomegroup,left_on=\"Country\",right_on=\"Country\")"
   ]
  },
  {
   "cell_type": "code",
   "execution_count": null,
   "metadata": {},
   "outputs": [],
   "source": [
    "#Import and clean gdp data\n",
    "df_gdp = pd.read_csv(\"country_gdp_code.csv\")\n",
    "df_gdp = df_gdp.replace([\"Bahamas, The\",\"Brunei\",\"Cote d'Ivoire\",\"Czech Republic\",\"Gambia, The\",\"Iran\",\"Laos\",\"United States\"],\n",
    "                        [\"Bahamas\",\"Brunei Darussalam\",\"Côte d'Ivoire\",\"Czechia\",\"Gambia\",\"Iran (Islamic Republic of)\",\"Lao People's Democratic Republic\",\"United States of America\"])\n",
    "df_who = df_who.merge(df_gdp,left_on=\"Country\",right_on=\"COUNTRY\")\n",
    "df_who = df_who.drop([\"COUNTRY\"],axis=1)\n"
   ]
  },
  {
   "cell_type": "code",
   "execution_count": null,
   "metadata": {},
   "outputs": [],
   "source": [
    "for col in df_who.columns[1:13]:\n",
    "    stripped = df_who[col].str.replace(\" \",\"\")\n",
    "    stripped = stripped.replace({\"<500\":\"500\",\"<100\":\"100\",\"<200\":\"200\",\"&lt;100\": \"100\",\"&lt;200\": \"200\",\n",
    "                                \"&lt;500\": \"500\"})\n",
    "    df_who[col] = stripped\n",
    "\n",
    "#The values were strings\n",
    "def turn_column_int(df, column_name):\n",
    "    data_dict = {column_name:[]}\n",
    "    for num in df[column_name]:    \n",
    "        if type(num)==str and num.replace(\" \",\"\").strip().isalnum():\n",
    "            num = int(num.replace(\" \",\"\").strip())\n",
    "        data_dict[column_name].append(num)\n",
    "    df_new = pd.DataFrame(data_dict)\n",
    "    df[column_name] = df_new\n",
    "\n",
    "cols = df_who.columns[1:13]\n",
    "for col in cols:\n",
    "    turn_column_int(df_who, col)"
   ]
  },
  {
   "cell_type": "markdown",
   "metadata": {},
   "source": [
    "### Various factors that worsen the situation HIV in countries\n",
    "\n",
    "https://www.theglobalfund.org/en/hivaids/ states that \"Human rights and gender-related barriers to health have long blocked national responses to HIV, TB and malaria, including: stigma and discrimination; gender inequality and violence; punitive practices, policies and laws; and social and economic inequality.\" I wanted to see the relationship between violence against women and data on HIV. The data is from https://data.oecd.org/inequality/violence-against-women.htm#indicator-chart"
   ]
  },
  {
   "cell_type": "code",
   "execution_count": null,
   "metadata": {},
   "outputs": [],
   "source": [
    "#Read the file on violence against women\n",
    "df_women = pd.read_csv(\"violence_against_women_oecd.csv\")\n",
    "df_women\n",
    "#The data about the year 2019\n",
    "df_women_2019 = df_women.loc[df_women.TIME==2019,[\"LOCATION\",\"Value\"]]\n",
    "df_women_2019.columns = [\"LOCATION\",\"Violence Against Women 2019\"]\n",
    "#Merge with the main dataframe\n",
    "df_who = pd.merge(df_who, df_women_2019, left_on='CODE', right_on=\"LOCATION\", how='outer')\n",
    "df_who = df_who.loc[0:156,:]\n",
    "df_who = df_who.drop(columns=[\"LOCATION\"],axis=1)"
   ]
  },
  {
   "cell_type": "code",
   "execution_count": null,
   "metadata": {},
   "outputs": [],
   "source": [
    "fig = plt.gcf()\n",
    "fig.set_size_inches(12, 8)\n",
    "\n",
    "sns.scatterplot(x=\"Violence Against Women 2019\", y=\"Number of people (all ages) living with HIV in 2018\",\n",
    "                hue=\"Income Group\", style=\"Income Group\",data=df_who)\n",
    "plt.ylim(0, 50000)"
   ]
  },
  {
   "cell_type": "markdown",
   "metadata": {},
   "source": [
    "https://www.theglobalfund.org/en/hivaids/: \"Key populations for HIV include gay, bisexual and other men who have sex with men, people who inject drugs, sex workers, and transgender people, and people in prison. People in these groups are are socially marginalized, often criminalized and face a range of human rights abuses that increase their vulnerability to HIV. Those living with HIV are also considered as a key population.\""
   ]
  },
  {
   "cell_type": "code",
   "execution_count": null,
   "metadata": {},
   "outputs": [],
   "source": [
    "#People living with HIV who know their status https://aidsinfo.unaids.org\n",
    "file3 = \"Treatment cascade_People living with HIV who know their status (%)_Population_ All ages.csv\"\n",
    "df_new3 = pd.read_csv(file3)\n",
    "cols = df_new3.columns[1:13:3]\n",
    "df_new4 = pd.DataFrame(df_new3.Country)\n",
    "\n",
    "df_new3 = pd.concat([df_new3[cols],df_new4],axis=1)\n",
    "df_new3.columns = [\"People living with HIV who know their status (%) 2015\",\"People living with HIV who know their status (%) 2016\",\n",
    "                   \"People living with HIV who know their status (%) 2017\",\"People living with HIV who know their status (%) 2018\",\"Country\"]\n"
   ]
  },
  {
   "cell_type": "code",
   "execution_count": null,
   "metadata": {},
   "outputs": [],
   "source": [
    "#Men who have sex with men & HIV prevelance among men who have sex with men https://aidsinfo.unaids.org\n",
    "file1 = \"Men who have sex with men_Men who have sex with men_ Size estimate.csv\"\n",
    "file2 = \"Men who have sex with men_HIV prevalence among men who have sex with men_Population_ All ages.csv\"\n",
    "df_new1 = pd.read_csv(file1)\n",
    "df_new2 = pd.read_csv(file2)\n",
    "df_new1.columns = [\"Country\",\"Men who have sex with men (2018)\",\"Most recent data as of 2018_Footnote\"]\n",
    "df_new2.columns = [\"Country\",\"HIV prevalence among men who have sex with men (2018)\",\"Most recent data as of 2018_Footnote\"]\n",
    "df_new1 = pd.merge(df_new1, df_new2, on=\"Country\", suffixes=('_left', '_right'))\n",
    "df_new1 = pd.merge(df_new1, df_new3, on=\"Country\", suffixes=('_left', '_right'))\n",
    "df_new1 = df_new1.replace([\"United States\",\"Republic of Moldova\",\"Syrian Arab Republic\",\"Democratic Republic of the Congo\",\"The former Yugoslav Republic of Macedonia\",\"United Republic of Tanzania\",\n",
    "                        \"Venezuela (Bolivarian Republic of)\",\"Viet Nam\",\"Bolivia (Plurinational State of)\"],\n",
    "                        [\"United States of America\",\"Moldova\",\"Syria\",\"Congo, Republic of the\",\"Macedonia\",\"Tanzania\"\n",
    "                        ,\"Venezuela\",\"Vietnam\",\"Bolivia\"])\n",
    "df_gdp = df_gdp.drop([\"GDP (BILLIONS)\"], axis=1)\n",
    "df_new1 = pd.merge(df_new1, df_gdp, left_on=\"Country\", right_on=\"COUNTRY\", how=\"outer\")\n",
    "\n",
    "df_new1 = df_new1.drop([\"Most recent data as of 2018_Footnote_left\",\"Most recent data as of 2018_Footnote_right\",\"COUNTRY\",\"Country\"],axis=1)\n",
    "df_who = pd.merge(df_who, df_new1, on=\"CODE\", how=\"outer\")\n",
    "\n",
    "turn_column_int(df_who, \"Men who have sex with men (2018)\")\n",
    "\n",
    "for col in df_who.columns[-4:]:\n",
    "    turn_column_int(df_who, col)\n",
    "\n",
    "df_who = df_who[:-61]"
   ]
  },
  {
   "cell_type": "markdown",
   "metadata": {},
   "source": [
    "#### Adding population numbers "
   ]
  },
  {
   "cell_type": "code",
   "execution_count": null,
   "metadata": {
    "scrolled": true
   },
   "outputs": [],
   "source": [
    "df_new = pd.read_csv(\"population-worldbank.csv\")\n",
    "df_new = df_new.iloc[:,[1,44,54,62]]\n",
    "df_new.columns = [\"CODE\",\"Population 2000\", \"Population 2010\", \"Population 2018\"]\n",
    "df_who = pd.merge(df_new,df_who,on=\"CODE\")"
   ]
  },
  {
   "cell_type": "markdown",
   "metadata": {},
   "source": [
    "## Comparing years \n",
    "\n",
    "Our dataset has values of certain features for the years 2000, 2005, 2010. Thus, we wanted to use it to compare values from different years. Using the features \"Number of people (all ages) living with HIV\" and \"Population\", we created the feature \"Percentage of People with HIV\". The values for the countries in Sub-Saharan Africa were almost complete and we decided to focus on them. After grouping them by income, we observed that the values for upper middle income increased over the years. At the same time there are less countries in that income group than others so the mean value for upper middle income might have changed more easily.\n",
    "\n",
    "When we listed the upper middle income countries, we saw that the percentage of people with HIV have risen in South Africa, Equiatorial Guinea, Mauritus, and Namibia over the years. Why?"
   ]
  },
  {
   "cell_type": "code",
   "execution_count": null,
   "metadata": {},
   "outputs": [],
   "source": [
    "df_years = pd.DataFrame(data=df_who, columns=[\"CODE\",\"Income Group\",\"Region\"])"
   ]
  },
  {
   "cell_type": "code",
   "execution_count": null,
   "metadata": {},
   "outputs": [],
   "source": [
    "df_years[\"Percentage of People with HIV 2000\"] = df_who[\"Number of people (all ages) living with HIV in 2000\"]*100/df_who[\"Population 2000\"]\n",
    "df_years[\"Percentage of People with HIV 2010\"] = df_who[\"Number of people (all ages) living with HIV in 2010\"]*100/df_who[\"Population 2010\"]\n",
    "df_years[\"Percentage of People with HIV 2018\"] = df_who[\"Number of people (all ages) living with HIV in 2018\"]*100/df_who[\"Population 2018\"]"
   ]
  },
  {
   "cell_type": "code",
   "execution_count": null,
   "metadata": {
    "scrolled": true
   },
   "outputs": [],
   "source": [
    "#Extract countries in the region of Sub-Saharan Africa\n",
    "df_afr = df_years.loc[df_years.Region==\"Sub-Saharan Africa\",:]\n",
    "df_afr"
   ]
  },
  {
   "cell_type": "code",
   "execution_count": null,
   "metadata": {},
   "outputs": [],
   "source": [
    "df_who_wmn = df_who.loc[df_who[\"Region\"]==\"Sub-Saharan Africa\", [\"Violence Against Women 2019\",\"CODE\"]]\n",
    "df_afr_wmn = pd.merge(df_afr,df_who_wmn, on=\"CODE\")\n",
    "df_afr_wmn"
   ]
  },
  {
   "cell_type": "code",
   "execution_count": null,
   "metadata": {},
   "outputs": [],
   "source": [
    "fig = plt.gcf()\n",
    "fig.set_size_inches(12, 8)\n",
    "\n",
    "sns.scatterplot(x=\"Violence Against Women 2019\", y=\"Percentage of People with HIV 2018\",\n",
    "                hue=\"Income Group\", style=\"Income Group\",data=df_afr_wmn).set_title(\"Percentage of People with HIV 2018 vs Violence Against Women 2019\")\n",
    "plt.ylim(0, 18)"
   ]
  },
  {
   "cell_type": "code",
   "execution_count": null,
   "metadata": {},
   "outputs": [],
   "source": [
    "def n_feature_heatmap(df, feature, n=5):\n",
    "    crmat = df.corr()\n",
    "    cols = crmat.nlargest(n, feature).index\n",
    "    sns.heatmap(crmat.loc[cols,cols],annot=True,fmt=\".2g\",annot_kws=None);\n",
    "    \n",
    "n_feature_heatmap(df_afr_wmn, \"Violence Against Women 2019\",n=5)"
   ]
  },
  {
   "cell_type": "code",
   "execution_count": null,
   "metadata": {},
   "outputs": [],
   "source": [
    "df_years\n",
    "plt.figure(figsize=(20,10))\n",
    "plt.ylim(0, 5)\n",
    "sns.boxplot(x='Income Group', y=\"Percentage of People with HIV 2018\", data=df_years,width=0.8).set_title(\"Percentage of people with HIV 2018 per Income Group\");\n",
    "plt.savefig(\"percentage_of_people_with_HIV_2018_perIncomeGroup.jpeg\")"
   ]
  },
  {
   "cell_type": "markdown",
   "metadata": {},
   "source": [
    "We had the data for the number of people who have HIV in each country but wanted to see the percentages. The mean and maximum values for the percentage of people with HIV are lower in countries in higher income groups and they do not overlap. There are outliers in upper middle income countries, the one at the top being South Africa, with the highest percentage of people with HIV despite being an upper middle income country."
   ]
  },
  {
   "cell_type": "code",
   "execution_count": null,
   "metadata": {},
   "outputs": [],
   "source": [
    "afr2000 = df_afr.groupby([\"Income Group\"])[\"Percentage of People with HIV 2000\"].mean()\n",
    "afr2010 = df_afr.groupby([\"Income Group\"])[\"Percentage of People with HIV 2010\"].mean()\n",
    "afr2018 = df_afr.groupby([\"Income Group\"])[\"Percentage of People with HIV 2018\"].mean()"
   ]
  },
  {
   "cell_type": "code",
   "execution_count": null,
   "metadata": {},
   "outputs": [],
   "source": [
    "afr_mean = pd.DataFrame([afr2000,afr2010,afr2018])\n",
    "afr_mean"
   ]
  },
  {
   "cell_type": "code",
   "execution_count": null,
   "metadata": {},
   "outputs": [],
   "source": [
    "afr_mean = afr_mean.stack()\n",
    "afr_mean.index.names = [\"Dates\",\"Income Group\"]\n",
    "afr_mean = afr_mean.swaplevel(\"Dates\",\"Income Group\")"
   ]
  },
  {
   "cell_type": "code",
   "execution_count": null,
   "metadata": {},
   "outputs": [],
   "source": [
    "afr_mean[\"Low income\"].plot(figsize=(10,5))\n",
    "afr_mean[\"Lower middle income\"].plot(figsize=(10,5))\n",
    "afr_mean[\"Upper middle income\"].plot(figsize=(10,5))\n",
    "plt.legend(['Low income',\"Lower middle income\",\"Upper middle income\"], loc='upper left');\n",
    "plt.title(\"Percentage of People with HIV - Income Group - Sub-Saharan Africa\")\n",
    "plt.savefig(\"Percentage_of_People_with_HIV_Income_Group_Sub_Saharan_Africa.jpeg\")"
   ]
  },
  {
   "cell_type": "code",
   "execution_count": null,
   "metadata": {},
   "outputs": [],
   "source": [
    "df_search1 = df_who.loc[df_who.Region==\"Sub-Saharan Africa\",[\"Country\",\"CODE\",\"Income Group\"]]\n",
    "print(df_search1.loc[df_who[\"Income Group\"]==\"Upper middle income\"])"
   ]
  },
  {
   "cell_type": "code",
   "execution_count": null,
   "metadata": {},
   "outputs": [],
   "source": [
    "df_afr.loc[df_afr[\"CODE\"]==\"ZAF\",:] #South Africa"
   ]
  },
  {
   "cell_type": "code",
   "execution_count": null,
   "metadata": {},
   "outputs": [],
   "source": [
    "df_afr.loc[df_afr[\"CODE\"]==\"BWA\",:] #Botswana"
   ]
  },
  {
   "cell_type": "code",
   "execution_count": null,
   "metadata": {},
   "outputs": [],
   "source": [
    "df_afr.loc[df_afr[\"CODE\"]==\"GAB\",:] #Gabon"
   ]
  },
  {
   "cell_type": "code",
   "execution_count": null,
   "metadata": {},
   "outputs": [],
   "source": [
    "df_afr.loc[df_afr[\"CODE\"]==\"GNQ\",:] #Equiatorial Guinea"
   ]
  },
  {
   "cell_type": "code",
   "execution_count": null,
   "metadata": {},
   "outputs": [],
   "source": [
    "df_afr.loc[df_afr[\"CODE\"]==\"MUS\",:] #Mauritus"
   ]
  },
  {
   "cell_type": "code",
   "execution_count": null,
   "metadata": {},
   "outputs": [],
   "source": [
    "df_afr.loc[df_afr[\"CODE\"]==\"NAM\",:] #Namibia"
   ]
  },
  {
   "cell_type": "markdown",
   "metadata": {},
   "source": [
    "## Men who have sex with men (MSM)\n",
    "\n",
    "https://www.avert.org/professionals/hiv-around-world/sub-saharan-africa/south-africa\n",
    "\"Men who have sex with men (MSM)\n",
    "\n",
    "HIV prevalence among men who have sex with men (sometimes referred to as MSM) in South Africa is now estimated at 26.8%. 20 This varies geographically but it is reported to have risen by more than 10% in Johannesburg, Cape Town and Durban since 2008.21\n",
    "\n",
    "<b>Despite a constitution that protects the rights of LGBT communities, many men who have sex with men face high levels of social stigma and homophobic violence as a result of traditional and conservative attitudes within the general population.</b> There is also a lack of knowledge around the issues that face men who have sex with men, this makes it difficult for these men to disclose their sexuality to healthcare workers and get the healthcare they need.\"\n",
    "\n",
    "As the above link suggests homophobic violence and conservative attitudes can prevent sexual minorities to get the healthcare they need. Our hypothesis was that there is a correlation between LGBT right in the country and HIV prevalence among MSM. Considering this information, we wanted to take a look at the countries that have the lowest and highest HIV prevalence among men who have sex with men in the Sub-Saharan Africa. The difference between two sets of countries is dramatic with the lowest 1.2% and the highest 34.4. \n",
    "\n",
    "So, at first we manually did research about the countries that came up in the results. Consistently, the countries with the low numbers seemed to be pioneers on LGBT rights in that region and the people in countries with the high numbers are heavily discriminated. Afterwards, in order to observe the correlation between data, we have downloaded a dataset on same sex marriage. Our visualization did not refute our hypothesis."
   ]
  },
  {
   "cell_type": "code",
   "execution_count": null,
   "metadata": {},
   "outputs": [],
   "source": [
    "df_search_afr = df_who.loc[df_who.Region==\"Sub-Saharan Africa\",[\"Country\",\"Income Group\",\"HIV prevalence among men who have sex with men (2018)\"]]\n",
    "df_search_afr.loc[df_search_afr[\"HIV prevalence among men who have sex with men (2018)\"]<5.0,:]"
   ]
  },
  {
   "cell_type": "markdown",
   "metadata": {},
   "source": [
    "#### LGBT Rights in Angola\n",
    "https://en.wikipedia.org/wiki/LGBT_rights_in_Angola\n",
    "\"Some NGOs in Angola, that are working on HIV/AIDS education, are beginning to work with the LGBT community, and there are no reports of LGBT people being specifically targeted for harassment in Angola by police or vigilante groups. Additionally, two specific LGBT groups operate in Angola. However, only one of these groups has received official and legal recognition.\"\n",
    "\n",
    "#### LGBT Rights in Burkina Faso\n",
    "https://en.wikipedia.org/wiki/LGBT_rights_in_Burkina_Faso\n",
    "\"Both male and female same-sex sexual activity has always been legal in Burkina Faso. Age of consent is equal, regardless of sex since 1996.\"\n",
    "\n",
    "#### LGBT Rights in Guinea-Bissau\n",
    "https://en.wikipedia.org/wiki/LGBT_rights_in_Guinea-Bissau\n",
    "\"Both male and female same-sex sexual acts are legal since 1993 in Guinea-Bissau.[1]\n",
    "In December 2008, Guinea-Bissau became one of 66 nations to sign the \"United Nations Statement on Human Rights, Sexual Orientation and Gender Identity\", which supports decriminalization of homosexuality and transgender identity.\"\n",
    "\n",
    "#### LGBT Rights in Rwanda\n",
    "https://en.wikipedia.org/wiki/LGBT_rights_in_Rwanda\n",
    "\"LGBT Rwandans have reported being harassed, blackmailed, and even arrested by the police under various laws dealing with public order and morality.\n",
    "<b>Despite this, Rwanda is considered a leader in the progress on human rights for LGBT persons in East Africa.Rwanda is a signatory of the United Nations joint statement condemning violence against LGBT people, being one of the only few countries in Africa to have sponsored the declaration, and stands in sharp contrast with neighbouring Uganda, Tanzania and Burundi.</b>\""
   ]
  },
  {
   "cell_type": "code",
   "execution_count": null,
   "metadata": {},
   "outputs": [],
   "source": [
    "df_search_afr.loc[df_search_afr[\"HIV prevalence among men who have sex with men (2018)\"]>15.0,:]"
   ]
  },
  {
   "cell_type": "markdown",
   "metadata": {},
   "source": [
    "#### LGBT Rights in Gambia\n",
    "https://en.wikipedia.org/wiki/LGBT_rights_in_the_Gambia\n",
    "Both male and female same-sex sexual activity is illegal in the Gambia.\n",
    "Former Gambian President Yahya Jammeh said in May 2008 that laws \"stricter than those in Iran\" against homosexuals would soon be introduced and vowed to \"cut off the head\" of any homosexual caught in the country.\n",
    "\n",
    "#### LGBT Rights in Lesotho\n",
    "https://en.wikipedia.org/wiki/LGBT_rights_in_Lesotho\n",
    "\"LGBT people face societal rejection and discrimination in Lesotho. Nevertheless, attitudes towards members of the LGBT community are slowly evolving and becoming more tolerant and accepting, in line with worldwide trends. In 2012, Lesotho legalised homosexuality, and on 18 May 2013, the first gay pride march took place in the country.\"\n",
    "Things are getting better in line with the worlwide trends but the developments are recent.\n",
    "#### LGBT Rights in Senegal\n",
    "https://en.wikipedia.org/wiki/LGBT_rights_in_Senegal\n",
    "\"Senegal specifically outlaws same-sex sexual acts and, in the past, has prosecuted men accused of homosexuality. LGBT persons face routine discrimination in society.\"\n",
    "\n",
    "#### LGBT Rights in Nigeria\n",
    "https://en.wikipedia.org/wiki/LGBT_rights_in_Nigeria\n",
    "\"Very few LGBT persons are open about their orientation, and violence against LGBT people is frequent.\n",
    "Both male and female same-sex sexual activity is illegal in Nigeria. The maximum punishment in the twelve northern states that have adopted Shari'a law is death by stoning.\""
   ]
  },
  {
   "cell_type": "code",
   "execution_count": null,
   "metadata": {},
   "outputs": [],
   "source": [
    "#https://ilga.org/maps-sexual-orientation-laws\n",
    "df_lgbt = pd.read_excel(\"ILGA_State_Sponsored_Homophobia_2019_dataset.xlsx\")\n",
    "df_lgbt = df_lgbt.drop([\"N\",\"CN\",\"S\",\"S.1\",\"Unnamed: 8\",\"Unnamed: 9\"],axis=1)\n",
    "\n",
    "df_lgbt"
   ]
  },
  {
   "cell_type": "code",
   "execution_count": null,
   "metadata": {},
   "outputs": [],
   "source": [
    "df_lgbt = df_lgbt.loc[df_lgbt.CONTINENT==\"AFRICA\"]"
   ]
  },
  {
   "cell_type": "code",
   "execution_count": null,
   "metadata": {},
   "outputs": [],
   "source": [
    "df_search_afr  = pd.merge(df_search_afr, df_lgbt, left_on=\"Country\",right_on=\"COUNTRY\")\n",
    "df_search_afr.columns = [\"Country\",\"Income Group\",\"HIV prevalence among men who have sex with men (2018)\",\n",
    "                          \"CONTINENT\",\"COUNTRY\",\"Same sex marriage 2017\",\"Same sex marriage 2019\"]\n",
    "df_search_afr = df_search_afr.drop([\"Income Group\",\"CONTINENT\",\"COUNTRY\",\"Same sex marriage 2017\"],axis=1)\n",
    "\n",
    "legal = (df_search_afr[\"Same sex marriage 2019\"]==\"LEGAL\")\n",
    "\n",
    "df_search_afr[\"Same sex marriage 19\"] = legal\n",
    "df_search_afr[\"Same sex marriage 19\"] *= 1\n",
    "df_search_afr"
   ]
  },
  {
   "cell_type": "code",
   "execution_count": null,
   "metadata": {},
   "outputs": [],
   "source": [
    "x = df_search_afr.loc[:,\"HIV prevalence among men who have sex with men (2018)\"]\n",
    "y = df_search_afr.loc[:,\"Same sex marriage 2019\"]\n",
    "try:\n",
    "    sns.catplot(y, x, jitter=False, data=df_search_afr)\n",
    "except:\n",
    "    print(\"ValueError\")"
   ]
  },
  {
   "cell_type": "markdown",
   "metadata": {},
   "source": [
    "### Missing Values"
   ]
  },
  {
   "cell_type": "code",
   "execution_count": null,
   "metadata": {},
   "outputs": [],
   "source": [
    "print(df_who.isnull().sum(axis=0))\n",
    "df_missing = df_who.isnull().sum(axis=0)\n",
    "num_missing = df_missing.sum()\n",
    "\n",
    "print(num_missing);"
   ]
  },
  {
   "cell_type": "code",
   "execution_count": null,
   "metadata": {},
   "outputs": [],
   "source": [
    "abs_important = ['Country', 'Number of people (all ages) living with HIV in 2018',\n",
    "       'Number of people (all ages) living with HIV in 2010',\n",
    "       'Number of people (all ages) living with HIV in 2000',\n",
    "       'HIV incidence rate (per 1000 uninfected population) in 2018']\n",
    "df_abs = df_who[abs_important]\n",
    "df_abs.dropna(axis=0, how='any', thresh=4, subset=None, inplace=True)\n",
    "hivIR = pd.read_csv('New HIV infections_Number of new HIV infections_Population_ All ages.csv')\n",
    "newcols = []\n",
    "for cols in hivIR:\n",
    "    newcols.append(cols.split()[0])\n",
    "hivIR.columns = newcols\n",
    "cols = ['Country','2000','2010','2018']\n",
    "hivIR = hivIR[cols]\n",
    "hivIR = hivIR.replace([\"... \",' ...','...'], np.nan)\n",
    "hivIR.dropna(axis=0, how='any', thresh=3, subset=None, inplace=True)\n",
    "for index, row in df_who.iterrows():\n",
    "     # access data using column names\n",
    "    if index not in df_abs.Country:\n",
    "        df_who.drop([index], inplace = True)\n"
   ]
  },
  {
   "cell_type": "code",
   "execution_count": null,
   "metadata": {},
   "outputs": [],
   "source": [
    "print(df_who.isnull().sum(axis=0))\n",
    "df_missing = df_who.isnull().sum(axis=0)\n",
    "num_missing = df_missing.sum()\n",
    "\n",
    "print(num_missing)"
   ]
  },
  {
   "cell_type": "code",
   "execution_count": null,
   "metadata": {},
   "outputs": [],
   "source": [
    "plt.figure(figsize=(20,15))\n",
    "plt.ylim(0, 700000)\n",
    "sns.boxplot(x='Region', y=\"Number of people (all ages) living with HIV in 2018\", data=df_who,width=0.8).set_title(\"Number of people with HIV 2018 per Region\");\n",
    "\n",
    "plt.savefig(\"Number_of_people_with_HIV_2018_perRegion.jpeg\")"
   ]
  },
  {
   "cell_type": "code",
   "execution_count": null,
   "metadata": {
    "scrolled": true
   },
   "outputs": [],
   "source": [
    "df_who"
   ]
  },
  {
   "cell_type": "code",
   "execution_count": null,
   "metadata": {},
   "outputs": [],
   "source": [
    "plt.figure(figsize=(20,10))\n",
    "plt.ylim(0, 700000)\n",
    "sns.boxplot(x='Income Group', y=\"Number of people (all ages) living with HIV in 2018\", data=df_who,width=0.8).set_title(\"Number of people with HIV 2018 per Income Group\");\n",
    "plt.savefig(\"Number_of_people_with_HIV_2018_perIncomeGroup.jpeg\")"
   ]
  },
  {
   "cell_type": "code",
   "execution_count": null,
   "metadata": {},
   "outputs": [],
   "source": [
    "df_who.groupby('Region')[['Number of people (all ages) living with HIV in 2018']].mean()"
   ]
  },
  {
   "cell_type": "code",
   "execution_count": null,
   "metadata": {},
   "outputs": [],
   "source": [
    "df_who.groupby('Income Group')[['Number of people (all ages) living with HIV in 2018']].mean()"
   ]
  },
  {
   "cell_type": "code",
   "execution_count": null,
   "metadata": {},
   "outputs": [],
   "source": [
    "df_who.groupby('Region').size()"
   ]
  },
  {
   "cell_type": "markdown",
   "metadata": {},
   "source": [
    "## People living with HIV who know their status\n",
    "\n",
    "\"Knowledge of HIV Status is on the Rise\"\n",
    "https://www.hiv.gov/blog/knowledge-hiv-status-rise\n",
    "In his article, Richard Wolitski mentions the target which was set by the National HIV/AIDS Strategy of the U.S. \"for increasing the percentage of people living with HIV who know their serostatus to at least 90% by 2020\".\n",
    "\n",
    "After grouping "
   ]
  },
  {
   "cell_type": "code",
   "execution_count": null,
   "metadata": {},
   "outputs": [],
   "source": [
    "cols = [\"Country\",\"CODE\",\"Region\",\"People living with HIV who know their status (%) 2015\",\"People living with HIV who know their status (%) 2016\"\n",
    "       ,\"People living with HIV who know their status (%) 2017\",\"People living with HIV who know their status (%) 2018\"]\n",
    "df_status = df_who[cols]"
   ]
  },
  {
   "cell_type": "code",
   "execution_count": null,
   "metadata": {},
   "outputs": [],
   "source": [
    "for col in df_status.columns[3:7]:\n",
    "    turn_column_int(df_status,col)\n",
    "    \n",
    "def turn_str_nan(df, column_name):\n",
    "    data_dict = {column_name: []}\n",
    "    \n",
    "    for val in df[column_name]:\n",
    "        if type(val)==str:\n",
    "            val = np.nan\n",
    "            data_dict[column_name].append(val)\n",
    "            continue\n",
    "        data_dict[column_name].append(val)\n",
    "        \n",
    "    df_col = pd.DataFrame(data_dict)\n",
    "    df[column_name] = df_col\n",
    "\n",
    "for col in df_status.columns[3:7]:\n",
    "    turn_str_nan(df_status,col)"
   ]
  },
  {
   "cell_type": "code",
   "execution_count": null,
   "metadata": {},
   "outputs": [],
   "source": [
    "df_status"
   ]
  },
  {
   "cell_type": "code",
   "execution_count": null,
   "metadata": {},
   "outputs": [],
   "source": [
    "status2015 = df_status.groupby([\"Region\"])[\"People living with HIV who know their status (%) 2015\"].mean()\n",
    "status2016 = df_status.groupby([\"Region\"])[\"People living with HIV who know their status (%) 2016\"].mean()\n",
    "status2017 = df_status.groupby([\"Region\"])[\"People living with HIV who know their status (%) 2017\"].mean()\n",
    "status2018 = df_status.groupby([\"Region\"])[\"People living with HIV who know their status (%) 2018\"].mean()"
   ]
  },
  {
   "cell_type": "code",
   "execution_count": null,
   "metadata": {},
   "outputs": [],
   "source": [
    "region_status = pd.concat([status2015,status2016,status2017,status2018],axis=1)\n",
    "region_status"
   ]
  },
  {
   "cell_type": "code",
   "execution_count": null,
   "metadata": {},
   "outputs": [],
   "source": [
    "for i in range(6):\n",
    "    region_status.iloc[i,:].plot(figsize=(15,5))\n",
    "\n",
    "plt.title(\"People who know their status over the years (%)\")\n",
    "plt.legend(['East Asia & Pacific',\"Europe & Central Asia\",\"Latin America & Caribbean\", \"Middle East & North Africa\",\"South Asia\",\"Sub-Saharan Africa\"], loc='upper left');\n",
    "plt.savefig(\"People_who_know_their_status_over_the_years.jpeg\")"
   ]
  },
  {
   "cell_type": "code",
   "execution_count": null,
   "metadata": {},
   "outputs": [],
   "source": [
    "people2000 = df_who.groupby([\"Region\"])[\"Number of people (all ages) living with HIV in 2000\"].mean()\n",
    "people2010 = df_who.groupby([\"Region\"])[\"Number of people (all ages) living with HIV in 2010\"].mean()\n",
    "people2018 = df_who.groupby([\"Region\"])[\"Number of people (all ages) living with HIV in 2018\"].mean()\n",
    "df_people = pd.concat([people2000,people2010,people2018],axis=1)\n",
    "df_people"
   ]
  },
  {
   "cell_type": "code",
   "execution_count": null,
   "metadata": {},
   "outputs": [],
   "source": [
    "for i in range(6):\n",
    "    df_people.iloc[i,:].plot(figsize=(15,10))\n",
    "    \n",
    "plt.title(\"Number of people (all ages) living with HIV \")\n",
    "plt.legend(['East Asia & Pacific',\"Europe & Central Asia\",\"Latin America & Caribbean\", \"Middle East & North Africa\",\"South Asia\",\"Sub-Saharan Africa\"], loc='upper left');\n",
    "plt.savefig(\"Number_of_people_(all ages)_living_with_HIV.jpeg\")"
   ]
  },
  {
   "cell_type": "code",
   "execution_count": null,
   "metadata": {},
   "outputs": [],
   "source": [
    "#Lose the missing values\n",
    "df_years.dropna(axis=0, how='any', thresh=6, subset=None, inplace=True)"
   ]
  },
  {
   "cell_type": "code",
   "execution_count": null,
   "metadata": {},
   "outputs": [],
   "source": [
    "years2000 = df_years.groupby([\"Region\"])[\"Percentage of People with HIV 2000\"].mean()\n",
    "years2010 = df_years.groupby([\"Region\"])[\"Percentage of People with HIV 2010\"].mean()\n",
    "years2018 = df_years.groupby([\"Region\"])[\"Percentage of People with HIV 2018\"].mean()\n",
    "df_p = pd.concat([years2000,years2010,years2018],axis=1)\n",
    "for i in range(6):\n",
    "    df_p.iloc[i,:].plot(figsize=(15,10))\n",
    "plt.title(\"Percentage of people with HIV per Region\")\n",
    "plt.legend(['East Asia & Pacific',\"Europe & Central Asia\",\"Latin America & Caribbean\", \"Middle East & North Africa\",\"South Asia\",\"Sub-Saharan Africa\"], loc='upper left');\n",
    "plt.savefig(\"Percentage_of_people_with_HIV_per_Region.jpeg\")"
   ]
  },
  {
   "cell_type": "code",
   "execution_count": null,
   "metadata": {},
   "outputs": [],
   "source": [
    "df_years.loc[df_years.Region==\"Latin America & Caribbean\",:]"
   ]
  },
  {
   "cell_type": "markdown",
   "metadata": {},
   "source": [
    "## Heatmap"
   ]
  },
  {
   "cell_type": "code",
   "execution_count": null,
   "metadata": {},
   "outputs": [],
   "source": [
    "def n_feature_heatmap(df, feature, n=5):\n",
    "    crmat = df.corr()\n",
    "    cols = crmat.nlargest(n, feature).index\n",
    "    sns.heatmap(crmat.loc[cols,cols],annot=True,fmt=\".2g\",annot_kws=None);\n",
    "    \n",
    "n_feature_heatmap(df_who, \"Violence Against Women 2019\",n=10)\n"
   ]
  },
  {
   "cell_type": "markdown",
   "metadata": {},
   "source": [
    "## Socioeconomic Status\n",
    "\n",
    "https://www.apa.org/pi/ses/resources/publications/hiv-aids\n",
    "A lack of socioeconomic resources is linked to the practice of riskier health behaviors, which can lead to the contraction of HIV. These behaviors include substance use, which reduces the likelihood of using condoms \n",
    "\n",
    "Limited economic opportunities and periods of <b>homelessness</b> have been associated with risky sexual practices, such as exchanging sex for money, drugs, housing, food and safety. Ultimately, these practices can place individuals at risk for HIV\n",
    "\n",
    "Living in poverty can also result in <b>food insufficiency</b>, which can contribute to HIV/AIDS infection. Lacking food can result in transactional sex and power differences in sexual relationships, which can place an individual at risk of infection.\n",
    "\n",
    "Studies of urban health have found that factors such as level of poverty and unemployment, vacant buildings and high crime rates are all associated with increased risk of HIV infection. <b>These factors are all highly correlated, however, making it difficult to isolate the mechanisms that promote HIV infection</b> (Latkin, German, Vlahov, & Galea, 2013).\n",
    "\n",
    "Rural residents face unique challenges such as distance to care, lack of health care facilities and health care providers with HIV/AIDS expertise, limited availability of supportive or ancillary services, stigma and discrimination, and limited educational and economic infrastructure\n",
    " \n",
    "<b>Income inequality has been found to be related to increased HIV risk for males, whereas poverty, health and housing circumstances increased risk for females</b> (Buot et al., 2014). However, for both men and women, <b>increased poverty and unemployment levels</b> and <b>decreased median household income</b> are related to a lower probability of survival after an HIV diagnosis (Harrison, Ling, Song, & Hall , 2008). Other SES indicators, including <b>poverty, homelessness, hunger and lower education</b>, have also been associated with higher mortality (McMahon, Wanke, Terrin, Skinner, & Knox, 2011)."
   ]
  },
  {
   "cell_type": "code",
   "execution_count": null,
   "metadata": {},
   "outputs": [],
   "source": [
    "#unemployment, food insufficiency, income inequality, homelessness, median household income, hunger, lower education\n",
    "#https://data.worldbank.org/indicator/SL.UEM.TOTL.ZS?end=2019&start=2000\n",
    "\n",
    "file = \"unemployment_worldbank.csv\"\n",
    "df_socio = pd.read_csv(file)\n",
    "\n",
    "df_unemp1 = df_socio[[\"Country Name\",\"Country Code\"]]\n",
    "df_unemp2 = df_socio.iloc[:,-3:-2]\n",
    "df_socio = pd.concat([df_unemp1,df_unemp2],axis=1)"
   ]
  },
  {
   "cell_type": "code",
   "execution_count": null,
   "metadata": {},
   "outputs": [],
   "source": [
    "#school enrollment\n",
    "df_school = pd.read_csv(\"school_enrollment.csv\")\n",
    "df_school1 = df_school[\"2018\"].combine_first(df_school[\"2017\"])\n",
    "\n",
    "df_school1 = df_school1.combine_first(df_school[\"2016\"])\n",
    "df_school1 = df_school1.combine_first(df_school[\"2015\"])\n",
    "df_school1 = df_school1.combine_first(df_school[\"2014\"])\n",
    "df_socio = pd.concat([df_socio, df_school1],axis=1)\n",
    "\n",
    "df_incomepercapita = pd.read_csv(\"Adjusted_net_national_income_per_capita.csv\")\n",
    "df_incomepercapita = df_incomepercapita.iloc[:,-4:-3]\n",
    "df_socio = pd.concat([df_socio, df_incomepercapita],axis=1)"
   ]
  },
  {
   "cell_type": "code",
   "execution_count": null,
   "metadata": {},
   "outputs": [],
   "source": [
    "df_socio.columns = [\"Country Name\",\"Country Code\",\"Unemployment 2018 (%)\",\"School Enrollment 2018 (%)\",\"Adjusted net national income per capita 2017\"]\n",
    "df_socio"
   ]
  },
  {
   "cell_type": "markdown",
   "metadata": {},
   "source": [
    "The Gini coefficient is a measure of statistical dispersion intended to represent the income or wealth distribution of a nation's residents, and is the most commonly used measurement of inequality.\n",
    "\n",
    "A Gini coefficient of one (or 100%) expresses maximal inequality among values (e.g., for a large number of people, where only one person has all the income or consumption, and all others have none, the Gini coefficient will be very nearly one)."
   ]
  },
  {
   "cell_type": "code",
   "execution_count": null,
   "metadata": {},
   "outputs": [],
   "source": [
    "#https://data.worldbank.org/indicator/SI.POV.GINI\n",
    "df_gini = pd.read_csv(\"gini_index.csv\")\n",
    "df_gini\n",
    "df_gini1 = df_gini[\"2018\"].combine_first(df_gini[\"2017\"])\n",
    "years = list(range(1960,2020,))\n",
    "years = list(reversed(years))\n",
    "for year in years:\n",
    "    df_gini1 = df_gini1.combine_first(df_gini[str(year)])\n",
    "    \n",
    "df_socio = pd.concat([df_socio, df_gini1],axis=1)"
   ]
  },
  {
   "cell_type": "code",
   "execution_count": null,
   "metadata": {},
   "outputs": [],
   "source": [
    "df_socio"
   ]
  },
  {
   "cell_type": "code",
   "execution_count": null,
   "metadata": {},
   "outputs": [],
   "source": [
    "#tuberculosis\n",
    "df_tub = pd.read_csv(\"tuberculosis_incidence.csv\")\n",
    "df_socio = pd.concat([df_socio, df_tub.iloc[:,-3]],axis=1)"
   ]
  },
  {
   "cell_type": "code",
   "execution_count": null,
   "metadata": {},
   "outputs": [],
   "source": [
    "df_socio.columns = [\"Country Name\",\"Country Code\",\"Unemployment 2018 (%)\",\"School Enrollment 2018 (%)\",\n",
    "                    \"Adjusted net national income per capita 2017\",\"GINI Index\",\"Incidence of Tuberculosis 2018\"]"
   ]
  },
  {
   "cell_type": "code",
   "execution_count": null,
   "metadata": {},
   "outputs": [],
   "source": [
    "#hiv prevalence all\n",
    "#https://data.worldbank.org/indicator/SH.DYN.AIDS.ZS\n",
    "df_hiv = pd.read_csv(\"hiv_prevalence_all.csv\")\n",
    "df_socio = pd.concat([df_socio, df_hiv.iloc[:,-3]],axis=1)"
   ]
  },
  {
   "cell_type": "code",
   "execution_count": null,
   "metadata": {},
   "outputs": [],
   "source": [
    "#hiv prevalence female\n",
    "df_hiv_f = pd.read_csv(\"hiv_prevalence_female.csv\")\n",
    "df_socio = pd.concat([df_socio, df_hiv_f.iloc[:,-3]],axis=1)"
   ]
  },
  {
   "cell_type": "code",
   "execution_count": null,
   "metadata": {},
   "outputs": [],
   "source": [
    "df_socio.columns = [\"Country Name\",\"Country Code\",\"Unemployment 2018 (%)\",\"School Enrollment 2018 (%)\",\n",
    "                    \"Adjusted net national income per capita 2017\",\"GINI Index\",\"Incidence of Tuberculosis 2018\",\n",
    "                   \"HIV Prevalence(%)(ages 15-49)\",\"Female HIV Prevalence(%)(ages 15-49)\"]"
   ]
  },
  {
   "cell_type": "code",
   "execution_count": null,
   "metadata": {},
   "outputs": [],
   "source": [
    "#hiv prevalence male\n",
    "df_hiv_m = pd.read_csv(\"hiv_prevelance_male.csv\")\n",
    "df_socio = pd.concat([df_socio, df_hiv_m.iloc[:,-3]],axis=1)"
   ]
  },
  {
   "cell_type": "code",
   "execution_count": null,
   "metadata": {},
   "outputs": [],
   "source": [
    "df_socio"
   ]
  },
  {
   "cell_type": "code",
   "execution_count": null,
   "metadata": {},
   "outputs": [],
   "source": [
    "df_socio.columns = [\"Country Name\",\"Country Code\",\"Unemployment 2018 (%)\",\"School Enrollment 2018 (%)\",\n",
    "                    \"Adjusted net national income per capita 2017\",\"GINI Index\",\"Incidence of Tuberculosis 2018\",\n",
    "                   \"HIV Prevalence(%)(ages 15-49)\",\"Female HIV Prevalence(%)(ages 15-49)\",\"Male HIV Prevalence(%)(ages 15-49)\"]"
   ]
  },
  {
   "cell_type": "code",
   "execution_count": null,
   "metadata": {},
   "outputs": [],
   "source": [
    "df_socio"
   ]
  },
  {
   "cell_type": "code",
   "execution_count": null,
   "metadata": {},
   "outputs": [],
   "source": [
    "print()\n",
    "def n_feature_heatmap(df, feature, n=5):\n",
    "    crmat = df.corr()\n",
    "    cols = crmat.nlargest(n, feature).index\n",
    "    plt.subplots(figsize=(8,6))\n",
    "    sns.heatmap(crmat.loc[cols,cols],annot=True,fmt=\".2g\",annot_kws=None)\n",
    "    \n",
    "n_feature_heatmap(df_socio, \"HIV Prevalence(%)(ages 15-49)\",n=10)"
   ]
  },
  {
   "cell_type": "code",
   "execution_count": null,
   "metadata": {},
   "outputs": [],
   "source": [
    "\n",
    "g = sns.pairplot(df_socio,\n",
    "                  x_vars=[\"HIV Prevalence(%)(ages 15-49)\"],\n",
    "                  y_vars=[\"GINI Index\", \"Unemployment 2018 (%)\"],height=5,aspect=1.5)\n",
    "\n",
    "plt.title(\"HIV Prevalence (%) vs Socioeconomic factors\")\n",
    "\n",
    "plt.savefig(\"hiv-socioeconomic_factors1.jpeg\")"
   ]
  },
  {
   "cell_type": "code",
   "execution_count": null,
   "metadata": {},
   "outputs": [],
   "source": [
    "g = sns.pairplot(df_socio,\n",
    "                  x_vars=[\"HIV Prevalence(%)(ages 15-49)\"],\n",
    "                  y_vars=[\"Incidence of Tuberculosis 2018\",\n",
    "                         \"Adjusted net national income per capita 2017\"],height=5,aspect=1.5)\n",
    "plt.title(\"HIV Prevalence (%) vs Socioeconomic factors\")\n",
    "\n",
    "plt.savefig(\"hiv-socioeconomic_factors2.jpeg\")"
   ]
  },
  {
   "cell_type": "code",
   "execution_count": null,
   "metadata": {},
   "outputs": [],
   "source": []
  }
 ],
 "metadata": {
  "kernelspec": {
   "display_name": "Python 3",
   "language": "python",
   "name": "python3"
  },
  "language_info": {
   "codemirror_mode": {
    "name": "ipython",
    "version": 3
   },
   "file_extension": ".py",
   "mimetype": "text/x-python",
   "name": "python",
   "nbconvert_exporter": "python",
   "pygments_lexer": "ipython3",
   "version": "3.7.4"
  }
 },
 "nbformat": 4,
 "nbformat_minor": 2
}
